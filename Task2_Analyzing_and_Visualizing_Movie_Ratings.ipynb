{
 "cells": [
  {
   "cell_type": "code",
   "execution_count": 1,
   "id": "ceac276f",
   "metadata": {},
   "outputs": [],
   "source": [
    "import numpy as np \n",
    "import pandas as pd"
   ]
  },
  {
   "cell_type": "code",
   "execution_count": 2,
   "id": "d6e53875",
   "metadata": {},
   "outputs": [],
   "source": [
    "import warnings\n",
    "warnings.filterwarnings('ignore')"
   ]
  },
  {
   "cell_type": "code",
   "execution_count": 3,
   "id": "213a109f",
   "metadata": {},
   "outputs": [],
   "source": [
    "data = pd.read_csv('DownloadsIMDB-Movie-Data.csv')"
   ]
  },
  {
   "cell_type": "markdown",
   "id": "6ab979b4",
   "metadata": {},
   "source": [
    "# 1. Display Top 10 Rows of The Dataset"
   ]
  },
  {
   "cell_type": "code",
   "execution_count": 6,
   "id": "7b82b9a2",
   "metadata": {},
   "outputs": [
    {
     "data": {
      "text/html": [
       "<div>\n",
       "<style scoped>\n",
       "    .dataframe tbody tr th:only-of-type {\n",
       "        vertical-align: middle;\n",
       "    }\n",
       "\n",
       "    .dataframe tbody tr th {\n",
       "        vertical-align: top;\n",
       "    }\n",
       "\n",
       "    .dataframe thead th {\n",
       "        text-align: right;\n",
       "    }\n",
       "</style>\n",
       "<table border=\"1\" class=\"dataframe\">\n",
       "  <thead>\n",
       "    <tr style=\"text-align: right;\">\n",
       "      <th></th>\n",
       "      <th>Rank</th>\n",
       "      <th>Title</th>\n",
       "      <th>Genre</th>\n",
       "      <th>Description</th>\n",
       "      <th>Director</th>\n",
       "      <th>Actors</th>\n",
       "      <th>Year</th>\n",
       "      <th>Runtime (Minutes)</th>\n",
       "      <th>Rating</th>\n",
       "      <th>Votes</th>\n",
       "      <th>Revenue (Millions)</th>\n",
       "      <th>Metascore</th>\n",
       "    </tr>\n",
       "  </thead>\n",
       "  <tbody>\n",
       "    <tr>\n",
       "      <th>0</th>\n",
       "      <td>1</td>\n",
       "      <td>Guardians of the Galaxy</td>\n",
       "      <td>Action,Adventure,Sci-Fi</td>\n",
       "      <td>A group of intergalactic criminals are forced ...</td>\n",
       "      <td>James Gunn</td>\n",
       "      <td>Chris Pratt, Vin Diesel, Bradley Cooper, Zoe S...</td>\n",
       "      <td>2014</td>\n",
       "      <td>121</td>\n",
       "      <td>8.1</td>\n",
       "      <td>757074</td>\n",
       "      <td>333.13</td>\n",
       "      <td>76.0</td>\n",
       "    </tr>\n",
       "    <tr>\n",
       "      <th>1</th>\n",
       "      <td>2</td>\n",
       "      <td>Prometheus</td>\n",
       "      <td>Adventure,Mystery,Sci-Fi</td>\n",
       "      <td>Following clues to the origin of mankind, a te...</td>\n",
       "      <td>Ridley Scott</td>\n",
       "      <td>Noomi Rapace, Logan Marshall-Green, Michael Fa...</td>\n",
       "      <td>2012</td>\n",
       "      <td>124</td>\n",
       "      <td>7.0</td>\n",
       "      <td>485820</td>\n",
       "      <td>126.46</td>\n",
       "      <td>65.0</td>\n",
       "    </tr>\n",
       "    <tr>\n",
       "      <th>2</th>\n",
       "      <td>3</td>\n",
       "      <td>Split</td>\n",
       "      <td>Horror,Thriller</td>\n",
       "      <td>Three girls are kidnapped by a man with a diag...</td>\n",
       "      <td>M. Night Shyamalan</td>\n",
       "      <td>James McAvoy, Anya Taylor-Joy, Haley Lu Richar...</td>\n",
       "      <td>2016</td>\n",
       "      <td>117</td>\n",
       "      <td>7.3</td>\n",
       "      <td>157606</td>\n",
       "      <td>138.12</td>\n",
       "      <td>62.0</td>\n",
       "    </tr>\n",
       "    <tr>\n",
       "      <th>3</th>\n",
       "      <td>4</td>\n",
       "      <td>Sing</td>\n",
       "      <td>Animation,Comedy,Family</td>\n",
       "      <td>In a city of humanoid animals, a hustling thea...</td>\n",
       "      <td>Christophe Lourdelet</td>\n",
       "      <td>Matthew McConaughey,Reese Witherspoon, Seth Ma...</td>\n",
       "      <td>2016</td>\n",
       "      <td>108</td>\n",
       "      <td>7.2</td>\n",
       "      <td>60545</td>\n",
       "      <td>270.32</td>\n",
       "      <td>59.0</td>\n",
       "    </tr>\n",
       "    <tr>\n",
       "      <th>4</th>\n",
       "      <td>5</td>\n",
       "      <td>Suicide Squad</td>\n",
       "      <td>Action,Adventure,Fantasy</td>\n",
       "      <td>A secret government agency recruits some of th...</td>\n",
       "      <td>David Ayer</td>\n",
       "      <td>Will Smith, Jared Leto, Margot Robbie, Viola D...</td>\n",
       "      <td>2016</td>\n",
       "      <td>123</td>\n",
       "      <td>6.2</td>\n",
       "      <td>393727</td>\n",
       "      <td>325.02</td>\n",
       "      <td>40.0</td>\n",
       "    </tr>\n",
       "    <tr>\n",
       "      <th>5</th>\n",
       "      <td>6</td>\n",
       "      <td>The Great Wall</td>\n",
       "      <td>Action,Adventure,Fantasy</td>\n",
       "      <td>European mercenaries searching for black powde...</td>\n",
       "      <td>Yimou Zhang</td>\n",
       "      <td>Matt Damon, Tian Jing, Willem Dafoe, Andy Lau</td>\n",
       "      <td>2016</td>\n",
       "      <td>103</td>\n",
       "      <td>6.1</td>\n",
       "      <td>56036</td>\n",
       "      <td>45.13</td>\n",
       "      <td>42.0</td>\n",
       "    </tr>\n",
       "    <tr>\n",
       "      <th>6</th>\n",
       "      <td>7</td>\n",
       "      <td>La La Land</td>\n",
       "      <td>Comedy,Drama,Music</td>\n",
       "      <td>A jazz pianist falls for an aspiring actress i...</td>\n",
       "      <td>Damien Chazelle</td>\n",
       "      <td>Ryan Gosling, Emma Stone, Rosemarie DeWitt, J....</td>\n",
       "      <td>2016</td>\n",
       "      <td>128</td>\n",
       "      <td>8.3</td>\n",
       "      <td>258682</td>\n",
       "      <td>151.06</td>\n",
       "      <td>93.0</td>\n",
       "    </tr>\n",
       "    <tr>\n",
       "      <th>7</th>\n",
       "      <td>8</td>\n",
       "      <td>Mindhorn</td>\n",
       "      <td>Comedy</td>\n",
       "      <td>A has-been actor best known for playing the ti...</td>\n",
       "      <td>Sean Foley</td>\n",
       "      <td>Essie Davis, Andrea Riseborough, Julian Barrat...</td>\n",
       "      <td>2016</td>\n",
       "      <td>89</td>\n",
       "      <td>6.4</td>\n",
       "      <td>2490</td>\n",
       "      <td>NaN</td>\n",
       "      <td>71.0</td>\n",
       "    </tr>\n",
       "    <tr>\n",
       "      <th>8</th>\n",
       "      <td>9</td>\n",
       "      <td>The Lost City of Z</td>\n",
       "      <td>Action,Adventure,Biography</td>\n",
       "      <td>A true-life drama, centering on British explor...</td>\n",
       "      <td>James Gray</td>\n",
       "      <td>Charlie Hunnam, Robert Pattinson, Sienna Mille...</td>\n",
       "      <td>2016</td>\n",
       "      <td>141</td>\n",
       "      <td>7.1</td>\n",
       "      <td>7188</td>\n",
       "      <td>8.01</td>\n",
       "      <td>78.0</td>\n",
       "    </tr>\n",
       "    <tr>\n",
       "      <th>9</th>\n",
       "      <td>10</td>\n",
       "      <td>Passengers</td>\n",
       "      <td>Adventure,Drama,Romance</td>\n",
       "      <td>A spacecraft traveling to a distant colony pla...</td>\n",
       "      <td>Morten Tyldum</td>\n",
       "      <td>Jennifer Lawrence, Chris Pratt, Michael Sheen,...</td>\n",
       "      <td>2016</td>\n",
       "      <td>116</td>\n",
       "      <td>7.0</td>\n",
       "      <td>192177</td>\n",
       "      <td>100.01</td>\n",
       "      <td>41.0</td>\n",
       "    </tr>\n",
       "  </tbody>\n",
       "</table>\n",
       "</div>"
      ],
      "text/plain": [
       "   Rank                    Title                       Genre  \\\n",
       "0     1  Guardians of the Galaxy     Action,Adventure,Sci-Fi   \n",
       "1     2               Prometheus    Adventure,Mystery,Sci-Fi   \n",
       "2     3                    Split             Horror,Thriller   \n",
       "3     4                     Sing     Animation,Comedy,Family   \n",
       "4     5            Suicide Squad    Action,Adventure,Fantasy   \n",
       "5     6           The Great Wall    Action,Adventure,Fantasy   \n",
       "6     7               La La Land          Comedy,Drama,Music   \n",
       "7     8                 Mindhorn                      Comedy   \n",
       "8     9       The Lost City of Z  Action,Adventure,Biography   \n",
       "9    10               Passengers     Adventure,Drama,Romance   \n",
       "\n",
       "                                         Description              Director  \\\n",
       "0  A group of intergalactic criminals are forced ...            James Gunn   \n",
       "1  Following clues to the origin of mankind, a te...          Ridley Scott   \n",
       "2  Three girls are kidnapped by a man with a diag...    M. Night Shyamalan   \n",
       "3  In a city of humanoid animals, a hustling thea...  Christophe Lourdelet   \n",
       "4  A secret government agency recruits some of th...            David Ayer   \n",
       "5  European mercenaries searching for black powde...           Yimou Zhang   \n",
       "6  A jazz pianist falls for an aspiring actress i...       Damien Chazelle   \n",
       "7  A has-been actor best known for playing the ti...            Sean Foley   \n",
       "8  A true-life drama, centering on British explor...            James Gray   \n",
       "9  A spacecraft traveling to a distant colony pla...         Morten Tyldum   \n",
       "\n",
       "                                              Actors  Year  Runtime (Minutes)  \\\n",
       "0  Chris Pratt, Vin Diesel, Bradley Cooper, Zoe S...  2014                121   \n",
       "1  Noomi Rapace, Logan Marshall-Green, Michael Fa...  2012                124   \n",
       "2  James McAvoy, Anya Taylor-Joy, Haley Lu Richar...  2016                117   \n",
       "3  Matthew McConaughey,Reese Witherspoon, Seth Ma...  2016                108   \n",
       "4  Will Smith, Jared Leto, Margot Robbie, Viola D...  2016                123   \n",
       "5      Matt Damon, Tian Jing, Willem Dafoe, Andy Lau  2016                103   \n",
       "6  Ryan Gosling, Emma Stone, Rosemarie DeWitt, J....  2016                128   \n",
       "7  Essie Davis, Andrea Riseborough, Julian Barrat...  2016                 89   \n",
       "8  Charlie Hunnam, Robert Pattinson, Sienna Mille...  2016                141   \n",
       "9  Jennifer Lawrence, Chris Pratt, Michael Sheen,...  2016                116   \n",
       "\n",
       "   Rating   Votes  Revenue (Millions)  Metascore  \n",
       "0     8.1  757074              333.13       76.0  \n",
       "1     7.0  485820              126.46       65.0  \n",
       "2     7.3  157606              138.12       62.0  \n",
       "3     7.2   60545              270.32       59.0  \n",
       "4     6.2  393727              325.02       40.0  \n",
       "5     6.1   56036               45.13       42.0  \n",
       "6     8.3  258682              151.06       93.0  \n",
       "7     6.4    2490                 NaN       71.0  \n",
       "8     7.1    7188                8.01       78.0  \n",
       "9     7.0  192177              100.01       41.0  "
      ]
     },
     "execution_count": 6,
     "metadata": {},
     "output_type": "execute_result"
    }
   ],
   "source": [
    "data.head(10)"
   ]
  },
  {
   "cell_type": "markdown",
   "id": "e7f8c025",
   "metadata": {},
   "source": [
    "# 2.Check last 10 Rows of the Dataset"
   ]
  },
  {
   "cell_type": "code",
   "execution_count": 7,
   "id": "f40bc362",
   "metadata": {},
   "outputs": [
    {
     "data": {
      "text/html": [
       "<div>\n",
       "<style scoped>\n",
       "    .dataframe tbody tr th:only-of-type {\n",
       "        vertical-align: middle;\n",
       "    }\n",
       "\n",
       "    .dataframe tbody tr th {\n",
       "        vertical-align: top;\n",
       "    }\n",
       "\n",
       "    .dataframe thead th {\n",
       "        text-align: right;\n",
       "    }\n",
       "</style>\n",
       "<table border=\"1\" class=\"dataframe\">\n",
       "  <thead>\n",
       "    <tr style=\"text-align: right;\">\n",
       "      <th></th>\n",
       "      <th>Rank</th>\n",
       "      <th>Title</th>\n",
       "      <th>Genre</th>\n",
       "      <th>Description</th>\n",
       "      <th>Director</th>\n",
       "      <th>Actors</th>\n",
       "      <th>Year</th>\n",
       "      <th>Runtime (Minutes)</th>\n",
       "      <th>Rating</th>\n",
       "      <th>Votes</th>\n",
       "      <th>Revenue (Millions)</th>\n",
       "      <th>Metascore</th>\n",
       "    </tr>\n",
       "  </thead>\n",
       "  <tbody>\n",
       "    <tr>\n",
       "      <th>990</th>\n",
       "      <td>991</td>\n",
       "      <td>Underworld: Rise of the Lycans</td>\n",
       "      <td>Action,Adventure,Fantasy</td>\n",
       "      <td>An origins story centered on the centuries-old...</td>\n",
       "      <td>Patrick Tatopoulos</td>\n",
       "      <td>Rhona Mitra, Michael Sheen, Bill Nighy, Steven...</td>\n",
       "      <td>2009</td>\n",
       "      <td>92</td>\n",
       "      <td>6.6</td>\n",
       "      <td>129708</td>\n",
       "      <td>45.80</td>\n",
       "      <td>44.0</td>\n",
       "    </tr>\n",
       "    <tr>\n",
       "      <th>991</th>\n",
       "      <td>992</td>\n",
       "      <td>Taare Zameen Par</td>\n",
       "      <td>Drama,Family,Music</td>\n",
       "      <td>An eight-year-old boy is thought to be a lazy ...</td>\n",
       "      <td>Aamir Khan</td>\n",
       "      <td>Darsheel Safary, Aamir Khan, Tanay Chheda, Sac...</td>\n",
       "      <td>2007</td>\n",
       "      <td>165</td>\n",
       "      <td>8.5</td>\n",
       "      <td>102697</td>\n",
       "      <td>1.20</td>\n",
       "      <td>42.0</td>\n",
       "    </tr>\n",
       "    <tr>\n",
       "      <th>992</th>\n",
       "      <td>993</td>\n",
       "      <td>Take Me Home Tonight</td>\n",
       "      <td>Comedy,Drama,Romance</td>\n",
       "      <td>Four years after graduation, an awkward high s...</td>\n",
       "      <td>Michael Dowse</td>\n",
       "      <td>Topher Grace, Anna Faris, Dan Fogler, Teresa P...</td>\n",
       "      <td>2011</td>\n",
       "      <td>97</td>\n",
       "      <td>6.3</td>\n",
       "      <td>45419</td>\n",
       "      <td>6.92</td>\n",
       "      <td>NaN</td>\n",
       "    </tr>\n",
       "    <tr>\n",
       "      <th>993</th>\n",
       "      <td>994</td>\n",
       "      <td>Resident Evil: Afterlife</td>\n",
       "      <td>Action,Adventure,Horror</td>\n",
       "      <td>While still out to destroy the evil Umbrella C...</td>\n",
       "      <td>Paul W.S. Anderson</td>\n",
       "      <td>Milla Jovovich, Ali Larter, Wentworth Miller,K...</td>\n",
       "      <td>2010</td>\n",
       "      <td>97</td>\n",
       "      <td>5.9</td>\n",
       "      <td>140900</td>\n",
       "      <td>60.13</td>\n",
       "      <td>37.0</td>\n",
       "    </tr>\n",
       "    <tr>\n",
       "      <th>994</th>\n",
       "      <td>995</td>\n",
       "      <td>Project X</td>\n",
       "      <td>Comedy</td>\n",
       "      <td>3 high school seniors throw a birthday party t...</td>\n",
       "      <td>Nima Nourizadeh</td>\n",
       "      <td>Thomas Mann, Oliver Cooper, Jonathan Daniel Br...</td>\n",
       "      <td>2012</td>\n",
       "      <td>88</td>\n",
       "      <td>6.7</td>\n",
       "      <td>164088</td>\n",
       "      <td>54.72</td>\n",
       "      <td>48.0</td>\n",
       "    </tr>\n",
       "    <tr>\n",
       "      <th>995</th>\n",
       "      <td>996</td>\n",
       "      <td>Secret in Their Eyes</td>\n",
       "      <td>Crime,Drama,Mystery</td>\n",
       "      <td>A tight-knit team of rising investigators, alo...</td>\n",
       "      <td>Billy Ray</td>\n",
       "      <td>Chiwetel Ejiofor, Nicole Kidman, Julia Roberts...</td>\n",
       "      <td>2015</td>\n",
       "      <td>111</td>\n",
       "      <td>6.2</td>\n",
       "      <td>27585</td>\n",
       "      <td>NaN</td>\n",
       "      <td>45.0</td>\n",
       "    </tr>\n",
       "    <tr>\n",
       "      <th>996</th>\n",
       "      <td>997</td>\n",
       "      <td>Hostel: Part II</td>\n",
       "      <td>Horror</td>\n",
       "      <td>Three American college students studying abroa...</td>\n",
       "      <td>Eli Roth</td>\n",
       "      <td>Lauren German, Heather Matarazzo, Bijou Philli...</td>\n",
       "      <td>2007</td>\n",
       "      <td>94</td>\n",
       "      <td>5.5</td>\n",
       "      <td>73152</td>\n",
       "      <td>17.54</td>\n",
       "      <td>46.0</td>\n",
       "    </tr>\n",
       "    <tr>\n",
       "      <th>997</th>\n",
       "      <td>998</td>\n",
       "      <td>Step Up 2: The Streets</td>\n",
       "      <td>Drama,Music,Romance</td>\n",
       "      <td>Romantic sparks occur between two dance studen...</td>\n",
       "      <td>Jon M. Chu</td>\n",
       "      <td>Robert Hoffman, Briana Evigan, Cassie Ventura,...</td>\n",
       "      <td>2008</td>\n",
       "      <td>98</td>\n",
       "      <td>6.2</td>\n",
       "      <td>70699</td>\n",
       "      <td>58.01</td>\n",
       "      <td>50.0</td>\n",
       "    </tr>\n",
       "    <tr>\n",
       "      <th>998</th>\n",
       "      <td>999</td>\n",
       "      <td>Search Party</td>\n",
       "      <td>Adventure,Comedy</td>\n",
       "      <td>A pair of friends embark on a mission to reuni...</td>\n",
       "      <td>Scot Armstrong</td>\n",
       "      <td>Adam Pally, T.J. Miller, Thomas Middleditch,Sh...</td>\n",
       "      <td>2014</td>\n",
       "      <td>93</td>\n",
       "      <td>5.6</td>\n",
       "      <td>4881</td>\n",
       "      <td>NaN</td>\n",
       "      <td>22.0</td>\n",
       "    </tr>\n",
       "    <tr>\n",
       "      <th>999</th>\n",
       "      <td>1000</td>\n",
       "      <td>Nine Lives</td>\n",
       "      <td>Comedy,Family,Fantasy</td>\n",
       "      <td>A stuffy businessman finds himself trapped ins...</td>\n",
       "      <td>Barry Sonnenfeld</td>\n",
       "      <td>Kevin Spacey, Jennifer Garner, Robbie Amell,Ch...</td>\n",
       "      <td>2016</td>\n",
       "      <td>87</td>\n",
       "      <td>5.3</td>\n",
       "      <td>12435</td>\n",
       "      <td>19.64</td>\n",
       "      <td>11.0</td>\n",
       "    </tr>\n",
       "  </tbody>\n",
       "</table>\n",
       "</div>"
      ],
      "text/plain": [
       "     Rank                           Title                     Genre  \\\n",
       "990   991  Underworld: Rise of the Lycans  Action,Adventure,Fantasy   \n",
       "991   992                Taare Zameen Par        Drama,Family,Music   \n",
       "992   993            Take Me Home Tonight      Comedy,Drama,Romance   \n",
       "993   994        Resident Evil: Afterlife   Action,Adventure,Horror   \n",
       "994   995                       Project X                    Comedy   \n",
       "995   996            Secret in Their Eyes       Crime,Drama,Mystery   \n",
       "996   997                 Hostel: Part II                    Horror   \n",
       "997   998          Step Up 2: The Streets       Drama,Music,Romance   \n",
       "998   999                    Search Party          Adventure,Comedy   \n",
       "999  1000                      Nine Lives     Comedy,Family,Fantasy   \n",
       "\n",
       "                                           Description            Director  \\\n",
       "990  An origins story centered on the centuries-old...  Patrick Tatopoulos   \n",
       "991  An eight-year-old boy is thought to be a lazy ...          Aamir Khan   \n",
       "992  Four years after graduation, an awkward high s...       Michael Dowse   \n",
       "993  While still out to destroy the evil Umbrella C...  Paul W.S. Anderson   \n",
       "994  3 high school seniors throw a birthday party t...     Nima Nourizadeh   \n",
       "995  A tight-knit team of rising investigators, alo...           Billy Ray   \n",
       "996  Three American college students studying abroa...            Eli Roth   \n",
       "997  Romantic sparks occur between two dance studen...          Jon M. Chu   \n",
       "998  A pair of friends embark on a mission to reuni...      Scot Armstrong   \n",
       "999  A stuffy businessman finds himself trapped ins...    Barry Sonnenfeld   \n",
       "\n",
       "                                                Actors  Year  \\\n",
       "990  Rhona Mitra, Michael Sheen, Bill Nighy, Steven...  2009   \n",
       "991  Darsheel Safary, Aamir Khan, Tanay Chheda, Sac...  2007   \n",
       "992  Topher Grace, Anna Faris, Dan Fogler, Teresa P...  2011   \n",
       "993  Milla Jovovich, Ali Larter, Wentworth Miller,K...  2010   \n",
       "994  Thomas Mann, Oliver Cooper, Jonathan Daniel Br...  2012   \n",
       "995  Chiwetel Ejiofor, Nicole Kidman, Julia Roberts...  2015   \n",
       "996  Lauren German, Heather Matarazzo, Bijou Philli...  2007   \n",
       "997  Robert Hoffman, Briana Evigan, Cassie Ventura,...  2008   \n",
       "998  Adam Pally, T.J. Miller, Thomas Middleditch,Sh...  2014   \n",
       "999  Kevin Spacey, Jennifer Garner, Robbie Amell,Ch...  2016   \n",
       "\n",
       "     Runtime (Minutes)  Rating   Votes  Revenue (Millions)  Metascore  \n",
       "990                 92     6.6  129708               45.80       44.0  \n",
       "991                165     8.5  102697                1.20       42.0  \n",
       "992                 97     6.3   45419                6.92        NaN  \n",
       "993                 97     5.9  140900               60.13       37.0  \n",
       "994                 88     6.7  164088               54.72       48.0  \n",
       "995                111     6.2   27585                 NaN       45.0  \n",
       "996                 94     5.5   73152               17.54       46.0  \n",
       "997                 98     6.2   70699               58.01       50.0  \n",
       "998                 93     5.6    4881                 NaN       22.0  \n",
       "999                 87     5.3   12435               19.64       11.0  "
      ]
     },
     "execution_count": 7,
     "metadata": {},
     "output_type": "execute_result"
    }
   ],
   "source": [
    "data.tail(10)"
   ]
  },
  {
   "cell_type": "markdown",
   "id": "87b843e2",
   "metadata": {},
   "source": [
    "# 3. Find Shape of Our Dataset (Number of Rows And Number of Columns)"
   ]
  },
  {
   "cell_type": "code",
   "execution_count": 8,
   "id": "d36989d1",
   "metadata": {},
   "outputs": [
    {
     "data": {
      "text/plain": [
       "(1000, 12)"
      ]
     },
     "execution_count": 8,
     "metadata": {},
     "output_type": "execute_result"
    }
   ],
   "source": [
    "data.shape"
   ]
  },
  {
   "cell_type": "code",
   "execution_count": 10,
   "id": "999222d0",
   "metadata": {},
   "outputs": [
    {
     "name": "stdout",
     "output_type": "stream",
     "text": [
      "Number of Rows 1000\n",
      "Number of Columns 12\n"
     ]
    }
   ],
   "source": [
    "print('Number of Rows',data.shape[0])\n",
    "print('Number of Columns',data.shape[1])"
   ]
  },
  {
   "cell_type": "markdown",
   "id": "baab487e",
   "metadata": {},
   "source": [
    "# 4. Getting Information About Our Dataset Like Total Number Rows, Total Number of Columns, Datatypes of Each Column And Memory Requirement"
   ]
  },
  {
   "cell_type": "code",
   "execution_count": 11,
   "id": "405fe3bd",
   "metadata": {},
   "outputs": [
    {
     "name": "stdout",
     "output_type": "stream",
     "text": [
      "<class 'pandas.core.frame.DataFrame'>\n",
      "RangeIndex: 1000 entries, 0 to 999\n",
      "Data columns (total 12 columns):\n",
      " #   Column              Non-Null Count  Dtype  \n",
      "---  ------              --------------  -----  \n",
      " 0   Rank                1000 non-null   int64  \n",
      " 1   Title               1000 non-null   object \n",
      " 2   Genre               1000 non-null   object \n",
      " 3   Description         1000 non-null   object \n",
      " 4   Director            1000 non-null   object \n",
      " 5   Actors              1000 non-null   object \n",
      " 6   Year                1000 non-null   int64  \n",
      " 7   Runtime (Minutes)   1000 non-null   int64  \n",
      " 8   Rating              1000 non-null   float64\n",
      " 9   Votes               1000 non-null   int64  \n",
      " 10  Revenue (Millions)  872 non-null    float64\n",
      " 11  Metascore           936 non-null    float64\n",
      "dtypes: float64(3), int64(4), object(5)\n",
      "memory usage: 93.9+ KB\n"
     ]
    }
   ],
   "source": [
    "data.info()"
   ]
  },
  {
   "cell_type": "markdown",
   "id": "70507ddf",
   "metadata": {},
   "source": [
    "# 5. Check Null Values In The Dataset"
   ]
  },
  {
   "cell_type": "code",
   "execution_count": 12,
   "id": "84f7a820",
   "metadata": {},
   "outputs": [
    {
     "data": {
      "text/plain": [
       "Rank                    0\n",
       "Title                   0\n",
       "Genre                   0\n",
       "Description             0\n",
       "Director                0\n",
       "Actors                  0\n",
       "Year                    0\n",
       "Runtime (Minutes)       0\n",
       "Rating                  0\n",
       "Votes                   0\n",
       "Revenue (Millions)    128\n",
       "Metascore              64\n",
       "dtype: int64"
      ]
     },
     "execution_count": 12,
     "metadata": {},
     "output_type": "execute_result"
    }
   ],
   "source": [
    "data.isnull().sum()"
   ]
  },
  {
   "cell_type": "code",
   "execution_count": 13,
   "id": "f98abde5",
   "metadata": {},
   "outputs": [
    {
     "data": {
      "image/png": "[encoded data removed]",
      "text/plain": [
       "<Figure size 432x288 with 2 Axes>"
      ]
     },
     "metadata": {
      "needs_background": "light"
     },
     "output_type": "display_data"
    }
   ],
   "source": [
    "import matplotlib.pyplot as plt\n",
    "import seaborn as sns\n",
    "sns.heatmap(data.isnull())\n",
    "plt.show()"
   ]
  },
  {
   "cell_type": "markdown",
   "id": "197c2edf",
   "metadata": {},
   "source": [
    "# 6. Drop All The Missing Values"
   ]
  },
  {
   "cell_type": "code",
   "execution_count": 15,
   "id": "812acb4a",
   "metadata": {},
   "outputs": [],
   "source": [
    "data = data.dropna(axis=0)"
   ]
  },
  {
   "cell_type": "code",
   "execution_count": 16,
   "id": "487c4bba",
   "metadata": {},
   "outputs": [
    {
     "data": {
      "image/png": "[encoded data removed]",
      "text/plain": [
       "<Figure size 432x288 with 2 Axes>"
      ]
     },
     "metadata": {
      "needs_background": "light"
     },
     "output_type": "display_data"
    }
   ],
   "source": [
    "sns.heatmap(data.isnull())\n",
    "plt.show()"
   ]
  },
  {
   "cell_type": "markdown",
   "id": "52a4cf5e",
   "metadata": {},
   "source": [
    "# 7. Check For Duplicate Data"
   ]
  },
  {
   "cell_type": "code",
   "execution_count": 17,
   "id": "92d8d3c6",
   "metadata": {},
   "outputs": [
    {
     "name": "stdout",
     "output_type": "stream",
     "text": [
      "Are there any duplicated values in data? False\n"
     ]
    }
   ],
   "source": [
    "dup_data=data.duplicated().any()\n",
    "print(\"Are there any duplicated values in data?\",dup_data)"
   ]
  },
  {
   "cell_type": "markdown",
   "id": "5d650675",
   "metadata": {},
   "source": [
    "# 8. Get Overall Statistics About The DataFrame"
   ]
  },
  {
   "cell_type": "code",
   "execution_count": 18,
   "id": "d094ae53",
   "metadata": {},
   "outputs": [
    {
     "data": {
      "text/html": [
       "<div>\n",
       "<style scoped>\n",
       "    .dataframe tbody tr th:only-of-type {\n",
       "        vertical-align: middle;\n",
       "    }\n",
       "\n",
       "    .dataframe tbody tr th {\n",
       "        vertical-align: top;\n",
       "    }\n",
       "\n",
       "    .dataframe thead th {\n",
       "        text-align: right;\n",
       "    }\n",
       "</style>\n",
       "<table border=\"1\" class=\"dataframe\">\n",
       "  <thead>\n",
       "    <tr style=\"text-align: right;\">\n",
       "      <th></th>\n",
       "      <th>Rank</th>\n",
       "      <th>Year</th>\n",
       "      <th>Runtime (Minutes)</th>\n",
       "      <th>Rating</th>\n",
       "      <th>Votes</th>\n",
       "      <th>Revenue (Millions)</th>\n",
       "      <th>Metascore</th>\n",
       "    </tr>\n",
       "  </thead>\n",
       "  <tbody>\n",
       "    <tr>\n",
       "      <th>count</th>\n",
       "      <td>838.000000</td>\n",
       "      <td>838.00000</td>\n",
       "      <td>838.000000</td>\n",
       "      <td>838.000000</td>\n",
       "      <td>8.380000e+02</td>\n",
       "      <td>838.000000</td>\n",
       "      <td>838.000000</td>\n",
       "    </tr>\n",
       "    <tr>\n",
       "      <th>mean</th>\n",
       "      <td>485.247017</td>\n",
       "      <td>2012.50716</td>\n",
       "      <td>114.638425</td>\n",
       "      <td>6.814320</td>\n",
       "      <td>1.932303e+05</td>\n",
       "      <td>84.564558</td>\n",
       "      <td>59.575179</td>\n",
       "    </tr>\n",
       "    <tr>\n",
       "      <th>std</th>\n",
       "      <td>286.572065</td>\n",
       "      <td>3.17236</td>\n",
       "      <td>18.470922</td>\n",
       "      <td>0.877754</td>\n",
       "      <td>1.930990e+05</td>\n",
       "      <td>104.520227</td>\n",
       "      <td>16.952416</td>\n",
       "    </tr>\n",
       "    <tr>\n",
       "      <th>min</th>\n",
       "      <td>1.000000</td>\n",
       "      <td>2006.00000</td>\n",
       "      <td>66.000000</td>\n",
       "      <td>1.900000</td>\n",
       "      <td>1.780000e+02</td>\n",
       "      <td>0.000000</td>\n",
       "      <td>11.000000</td>\n",
       "    </tr>\n",
       "    <tr>\n",
       "      <th>25%</th>\n",
       "      <td>238.250000</td>\n",
       "      <td>2010.00000</td>\n",
       "      <td>101.000000</td>\n",
       "      <td>6.300000</td>\n",
       "      <td>6.127650e+04</td>\n",
       "      <td>13.967500</td>\n",
       "      <td>47.000000</td>\n",
       "    </tr>\n",
       "    <tr>\n",
       "      <th>50%</th>\n",
       "      <td>475.500000</td>\n",
       "      <td>2013.00000</td>\n",
       "      <td>112.000000</td>\n",
       "      <td>6.900000</td>\n",
       "      <td>1.368795e+05</td>\n",
       "      <td>48.150000</td>\n",
       "      <td>60.000000</td>\n",
       "    </tr>\n",
       "    <tr>\n",
       "      <th>75%</th>\n",
       "      <td>729.750000</td>\n",
       "      <td>2015.00000</td>\n",
       "      <td>124.000000</td>\n",
       "      <td>7.500000</td>\n",
       "      <td>2.710830e+05</td>\n",
       "      <td>116.800000</td>\n",
       "      <td>72.000000</td>\n",
       "    </tr>\n",
       "    <tr>\n",
       "      <th>max</th>\n",
       "      <td>1000.000000</td>\n",
       "      <td>2016.00000</td>\n",
       "      <td>187.000000</td>\n",
       "      <td>9.000000</td>\n",
       "      <td>1.791916e+06</td>\n",
       "      <td>936.630000</td>\n",
       "      <td>100.000000</td>\n",
       "    </tr>\n",
       "  </tbody>\n",
       "</table>\n",
       "</div>"
      ],
      "text/plain": [
       "              Rank        Year  Runtime (Minutes)      Rating         Votes  \\\n",
       "count   838.000000   838.00000         838.000000  838.000000  8.380000e+02   \n",
       "mean    485.247017  2012.50716         114.638425    6.814320  1.932303e+05   \n",
       "std     286.572065     3.17236          18.470922    0.877754  1.930990e+05   \n",
       "min       1.000000  2006.00000          66.000000    1.900000  1.780000e+02   \n",
       "25%     238.250000  2010.00000         101.000000    6.300000  6.127650e+04   \n",
       "50%     475.500000  2013.00000         112.000000    6.900000  1.368795e+05   \n",
       "75%     729.750000  2015.00000         124.000000    7.500000  2.710830e+05   \n",
       "max    1000.000000  2016.00000         187.000000    9.000000  1.791916e+06   \n",
       "\n",
       "       Revenue (Millions)   Metascore  \n",
       "count          838.000000  838.000000  \n",
       "mean            84.564558   59.575179  \n",
       "std            104.520227   16.952416  \n",
       "min              0.000000   11.000000  \n",
       "25%             13.967500   47.000000  \n",
       "50%             48.150000   60.000000  \n",
       "75%            116.800000   72.000000  \n",
       "max            936.630000  100.000000  "
      ]
     },
     "execution_count": 18,
     "metadata": {},
     "output_type": "execute_result"
    }
   ],
   "source": [
    "data.describe()"
   ]
  },
  {
   "cell_type": "markdown",
   "id": "d91f350a",
   "metadata": {},
   "source": [
    "# 9. Display Title of The Movie Having Runtime >= 180 Minutes"
   ]
  },
  {
   "cell_type": "code",
   "execution_count": 19,
   "id": "f8288fc3",
   "metadata": {},
   "outputs": [
    {
     "data": {
      "text/plain": [
       "82     The Wolf of Wall Street\n",
       "88           The Hateful Eight\n",
       "311             La vie d'Adèle\n",
       "Name: Title, dtype: object"
      ]
     },
     "execution_count": 19,
     "metadata": {},
     "output_type": "execute_result"
    }
   ],
   "source": [
    "data[data['Runtime (Minutes)']>=180]['Title']"
   ]
  },
  {
   "cell_type": "markdown",
   "id": "89d8b131",
   "metadata": {},
   "source": [
    "# 10. In Which Year There Was The Highest Voting?"
   ]
  },
  {
   "cell_type": "code",
   "execution_count": 20,
   "id": "668ad4d3",
   "metadata": {},
   "outputs": [
    {
     "data": {
      "image/png": "[encoded data removed]",
      "text/plain": [
       "<Figure size 432x288 with 1 Axes>"
      ]
     },
     "metadata": {
      "needs_background": "light"
     },
     "output_type": "display_data"
    }
   ],
   "source": [
    "sns.barplot(x='Year',y='Votes',data=data)\n",
    "plt.title(\"Votes By Year\")\n",
    "plt.show()"
   ]
  },
  {
   "cell_type": "markdown",
   "id": "f80aa809",
   "metadata": {},
   "source": [
    "# 11. In Which Year There Was The Highest Revenue?"
   ]
  },
  {
   "cell_type": "code",
   "execution_count": 21,
   "id": "6caa6c6f",
   "metadata": {},
   "outputs": [
    {
     "data": {
      "image/png": "[encoded data removed]",
      "text/plain": [
       "<Figure size 432x288 with 1 Axes>"
      ]
     },
     "metadata": {
      "needs_background": "light"
     },
     "output_type": "display_data"
    }
   ],
   "source": [
    "sns.barplot(x='Year',y='Revenue (Millions)',data=data)\n",
    "plt.title(\"Revenue By Year\")\n",
    "plt.show()"
   ]
  },
  {
   "cell_type": "markdown",
   "id": "69f62b2a",
   "metadata": {},
   "source": [
    "# 12. Find The Average Rating For Each Director"
   ]
  },
  {
   "cell_type": "code",
   "execution_count": 22,
   "id": "1537a77e",
   "metadata": {},
   "outputs": [
    {
     "data": {
      "text/plain": [
       "Director\n",
       "Christopher Nolan                   8.68\n",
       "Olivier Nakache                     8.60\n",
       "Makoto Shinkai                      8.60\n",
       "Florian Henckel von Donnersmarck    8.50\n",
       "Aamir Khan                          8.50\n",
       "                                    ... \n",
       "Sam Taylor-Johnson                  4.10\n",
       "Joey Curtis                         4.00\n",
       "George Nolfi                        3.90\n",
       "James Wong                          2.70\n",
       "Jason Friedberg                     1.90\n",
       "Name: Rating, Length: 524, dtype: float64"
      ]
     },
     "execution_count": 22,
     "metadata": {},
     "output_type": "execute_result"
    }
   ],
   "source": [
    "data.groupby('Director')['Rating'].mean().sort_values(ascending=False)"
   ]
  },
  {
   "cell_type": "markdown",
   "id": "a080a527",
   "metadata": {},
   "source": [
    "# 13. Display Top 10 Lengthy Movies Title"
   ]
  },
  {
   "cell_type": "code",
   "execution_count": 24,
   "id": "f3dc59a4",
   "metadata": {},
   "outputs": [],
   "source": [
    "le =data.nlargest(10,'Runtime (Minutes)')[['Title','Runtime (Minutes)']]. \\\n",
    "set_index('Title')"
   ]
  },
  {
   "cell_type": "code",
   "execution_count": 25,
   "id": "87686209",
   "metadata": {},
   "outputs": [
    {
     "data": {
      "image/png": "[encoded data removed]",
      "text/plain": [
       "<Figure size 432x288 with 1 Axes>"
      ]
     },
     "metadata": {
      "needs_background": "light"
     },
     "output_type": "display_data"
    }
   ],
   "source": [
    "sns.barplot(le['Runtime (Minutes)'],y=le.index)\n",
    "plt.title('Top 5 Lengtly Movies')\n",
    "plt.show()"
   ]
  },
  {
   "cell_type": "markdown",
   "id": "3d413c1a",
   "metadata": {},
   "source": [
    "# 14. Display Number of Movies Per Year"
   ]
  },
  {
   "cell_type": "code",
   "execution_count": 28,
   "id": "84222689",
   "metadata": {},
   "outputs": [
    {
     "data": {
      "text/plain": [
       "Text(0.5, 1.0, 'Number of Movies Per Year')"
      ]
     },
     "execution_count": 28,
     "metadata": {},
     "output_type": "execute_result"
    },
    {
     "data": {
      "image/png": "[encoded data removed]",
      "text/plain": [
       "<Figure size 432x288 with 1 Axes>"
      ]
     },
     "metadata": {
      "needs_background": "light"
     },
     "output_type": "display_data"
    }
   ],
   "source": [
    "sns.countplot(x='Year',data=data)\n",
    "plt.title(\"Number of Movies Per Year\")"
   ]
  },
  {
   "cell_type": "markdown",
   "id": "ca91bb4a",
   "metadata": {},
   "source": [
    "# 15. Find Most Popular Movie Title (Higest Revenue)"
   ]
  },
  {
   "cell_type": "code",
   "execution_count": 29,
   "id": "16068505",
   "metadata": {},
   "outputs": [
    {
     "data": {
      "text/plain": [
       "Index(['Rank', 'Title', 'Genre', 'Description', 'Director', 'Actors', 'Year',\n",
       "       'Runtime (Minutes)', 'Rating', 'Votes', 'Revenue (Millions)',\n",
       "       'Metascore'],\n",
       "      dtype='object')"
      ]
     },
     "execution_count": 29,
     "metadata": {},
     "output_type": "execute_result"
    }
   ],
   "source": [
    "data.columns"
   ]
  },
  {
   "cell_type": "code",
   "execution_count": 30,
   "id": "b4d75011",
   "metadata": {},
   "outputs": [
    {
     "data": {
      "text/plain": [
       "50    Star Wars: Episode VII - The Force Awakens\n",
       "Name: Title, dtype: object"
      ]
     },
     "execution_count": 30,
     "metadata": {},
     "output_type": "execute_result"
    }
   ],
   "source": [
    "data[data['Revenue (Millions)'].max() == data['Revenue (Millions)']]['Title']"
   ]
  },
  {
   "cell_type": "markdown",
   "id": "1fc46b8f",
   "metadata": {},
   "source": [
    "# 16. Display Top 10 Highest Rated Movie Titles And its Directors"
   ]
  },
  {
   "cell_type": "code",
   "execution_count": 31,
   "id": "d02302d6",
   "metadata": {},
   "outputs": [],
   "source": [
    "top_10=data.nlargest(10,'Rating')[['Title','Rating','Director']].set_index('Title')"
   ]
  },
  {
   "cell_type": "code",
   "execution_count": 32,
   "id": "007771f1",
   "metadata": {},
   "outputs": [
    {
     "data": {
      "text/html": [
       "<div>\n",
       "<style scoped>\n",
       "    .dataframe tbody tr th:only-of-type {\n",
       "        vertical-align: middle;\n",
       "    }\n",
       "\n",
       "    .dataframe tbody tr th {\n",
       "        vertical-align: top;\n",
       "    }\n",
       "\n",
       "    .dataframe thead th {\n",
       "        text-align: right;\n",
       "    }\n",
       "</style>\n",
       "<table border=\"1\" class=\"dataframe\">\n",
       "  <thead>\n",
       "    <tr style=\"text-align: right;\">\n",
       "      <th></th>\n",
       "      <th>Rating</th>\n",
       "      <th>Director</th>\n",
       "    </tr>\n",
       "    <tr>\n",
       "      <th>Title</th>\n",
       "      <th></th>\n",
       "      <th></th>\n",
       "    </tr>\n",
       "  </thead>\n",
       "  <tbody>\n",
       "    <tr>\n",
       "      <th>The Dark Knight</th>\n",
       "      <td>9.0</td>\n",
       "      <td>Christopher Nolan</td>\n",
       "    </tr>\n",
       "    <tr>\n",
       "      <th>Inception</th>\n",
       "      <td>8.8</td>\n",
       "      <td>Christopher Nolan</td>\n",
       "    </tr>\n",
       "    <tr>\n",
       "      <th>Interstellar</th>\n",
       "      <td>8.6</td>\n",
       "      <td>Christopher Nolan</td>\n",
       "    </tr>\n",
       "    <tr>\n",
       "      <th>Kimi no na wa</th>\n",
       "      <td>8.6</td>\n",
       "      <td>Makoto Shinkai</td>\n",
       "    </tr>\n",
       "    <tr>\n",
       "      <th>The Intouchables</th>\n",
       "      <td>8.6</td>\n",
       "      <td>Olivier Nakache</td>\n",
       "    </tr>\n",
       "    <tr>\n",
       "      <th>The Prestige</th>\n",
       "      <td>8.5</td>\n",
       "      <td>Christopher Nolan</td>\n",
       "    </tr>\n",
       "    <tr>\n",
       "      <th>The Departed</th>\n",
       "      <td>8.5</td>\n",
       "      <td>Martin Scorsese</td>\n",
       "    </tr>\n",
       "    <tr>\n",
       "      <th>The Dark Knight Rises</th>\n",
       "      <td>8.5</td>\n",
       "      <td>Christopher Nolan</td>\n",
       "    </tr>\n",
       "    <tr>\n",
       "      <th>Whiplash</th>\n",
       "      <td>8.5</td>\n",
       "      <td>Damien Chazelle</td>\n",
       "    </tr>\n",
       "    <tr>\n",
       "      <th>The Lives of Others</th>\n",
       "      <td>8.5</td>\n",
       "      <td>Florian Henckel von Donnersmarck</td>\n",
       "    </tr>\n",
       "  </tbody>\n",
       "</table>\n",
       "</div>"
      ],
      "text/plain": [
       "                       Rating                          Director\n",
       "Title                                                          \n",
       "The Dark Knight           9.0                 Christopher Nolan\n",
       "Inception                 8.8                 Christopher Nolan\n",
       "Interstellar              8.6                 Christopher Nolan\n",
       "Kimi no na wa             8.6                    Makoto Shinkai\n",
       "The Intouchables          8.6                   Olivier Nakache\n",
       "The Prestige              8.5                 Christopher Nolan\n",
       "The Departed              8.5                   Martin Scorsese\n",
       "The Dark Knight Rises     8.5                 Christopher Nolan\n",
       "Whiplash                  8.5                   Damien Chazelle\n",
       "The Lives of Others       8.5  Florian Henckel von Donnersmarck"
      ]
     },
     "execution_count": 32,
     "metadata": {},
     "output_type": "execute_result"
    }
   ],
   "source": [
    "top_10"
   ]
  },
  {
   "cell_type": "code",
   "execution_count": 35,
   "id": "3b4bce5d",
   "metadata": {},
   "outputs": [
    {
     "data": {
      "text/plain": [
       "Text(0.5, 1.0, 'Display Top 10 Highest Rated Movie Titles')"
      ]
     },
     "execution_count": 35,
     "metadata": {},
     "output_type": "execute_result"
    },
    {
     "data": {
      "image/png": "[encoded data removed]",
      "text/plain": [
       "<Figure size 432x288 with 1 Axes>"
      ]
     },
     "metadata": {
      "needs_background": "light"
     },
     "output_type": "display_data"
    }
   ],
   "source": [
    "sns.barplot(top_10['Rating'],top_10.index)\n",
    "plt.title(\"Display Top 10 Highest Rated Movie Titles\")"
   ]
  },
  {
   "cell_type": "markdown",
   "id": "52a58dbf",
   "metadata": {},
   "source": [
    "# 17. Display Top 10 Highest Revenue Movie Titles"
   ]
  },
  {
   "cell_type": "code",
   "execution_count": 36,
   "id": "6d73129e",
   "metadata": {},
   "outputs": [
    {
     "data": {
      "text/plain": [
       "Index(['Rank', 'Title', 'Genre', 'Description', 'Director', 'Actors', 'Year',\n",
       "       'Runtime (Minutes)', 'Rating', 'Votes', 'Revenue (Millions)',\n",
       "       'Metascore'],\n",
       "      dtype='object')"
      ]
     },
     "execution_count": 36,
     "metadata": {},
     "output_type": "execute_result"
    }
   ],
   "source": [
    "data.columns"
   ]
  },
  {
   "cell_type": "code",
   "execution_count": 37,
   "id": "96030f8a",
   "metadata": {},
   "outputs": [
    {
     "data": {
      "text/html": [
       "<div>\n",
       "<style scoped>\n",
       "    .dataframe tbody tr th:only-of-type {\n",
       "        vertical-align: middle;\n",
       "    }\n",
       "\n",
       "    .dataframe tbody tr th {\n",
       "        vertical-align: top;\n",
       "    }\n",
       "\n",
       "    .dataframe thead th {\n",
       "        text-align: right;\n",
       "    }\n",
       "</style>\n",
       "<table border=\"1\" class=\"dataframe\">\n",
       "  <thead>\n",
       "    <tr style=\"text-align: right;\">\n",
       "      <th></th>\n",
       "      <th>Rank</th>\n",
       "      <th>Title</th>\n",
       "      <th>Genre</th>\n",
       "      <th>Description</th>\n",
       "      <th>Director</th>\n",
       "      <th>Actors</th>\n",
       "      <th>Year</th>\n",
       "      <th>Runtime (Minutes)</th>\n",
       "      <th>Rating</th>\n",
       "      <th>Votes</th>\n",
       "      <th>Revenue (Millions)</th>\n",
       "      <th>Metascore</th>\n",
       "    </tr>\n",
       "  </thead>\n",
       "  <tbody>\n",
       "    <tr>\n",
       "      <th>50</th>\n",
       "      <td>51</td>\n",
       "      <td>Star Wars: Episode VII - The Force Awakens</td>\n",
       "      <td>Action,Adventure,Fantasy</td>\n",
       "      <td>Three decades after the defeat of the Galactic...</td>\n",
       "      <td>J.J. Abrams</td>\n",
       "      <td>Daisy Ridley, John Boyega, Oscar Isaac, Domhna...</td>\n",
       "      <td>2015</td>\n",
       "      <td>136</td>\n",
       "      <td>8.1</td>\n",
       "      <td>661608</td>\n",
       "      <td>936.63</td>\n",
       "      <td>81.0</td>\n",
       "    </tr>\n",
       "    <tr>\n",
       "      <th>87</th>\n",
       "      <td>88</td>\n",
       "      <td>Avatar</td>\n",
       "      <td>Action,Adventure,Fantasy</td>\n",
       "      <td>A paraplegic marine dispatched to the moon Pan...</td>\n",
       "      <td>James Cameron</td>\n",
       "      <td>Sam Worthington, Zoe Saldana, Sigourney Weaver...</td>\n",
       "      <td>2009</td>\n",
       "      <td>162</td>\n",
       "      <td>7.8</td>\n",
       "      <td>935408</td>\n",
       "      <td>760.51</td>\n",
       "      <td>83.0</td>\n",
       "    </tr>\n",
       "    <tr>\n",
       "      <th>85</th>\n",
       "      <td>86</td>\n",
       "      <td>Jurassic World</td>\n",
       "      <td>Action,Adventure,Sci-Fi</td>\n",
       "      <td>A new theme park, built on the original site o...</td>\n",
       "      <td>Colin Trevorrow</td>\n",
       "      <td>Chris Pratt, Bryce Dallas Howard, Ty Simpkins,...</td>\n",
       "      <td>2015</td>\n",
       "      <td>124</td>\n",
       "      <td>7.0</td>\n",
       "      <td>455169</td>\n",
       "      <td>652.18</td>\n",
       "      <td>59.0</td>\n",
       "    </tr>\n",
       "    <tr>\n",
       "      <th>76</th>\n",
       "      <td>77</td>\n",
       "      <td>The Avengers</td>\n",
       "      <td>Action,Sci-Fi</td>\n",
       "      <td>Earth's mightiest heroes must come together an...</td>\n",
       "      <td>Joss Whedon</td>\n",
       "      <td>Robert Downey Jr., Chris Evans, Scarlett Johan...</td>\n",
       "      <td>2012</td>\n",
       "      <td>143</td>\n",
       "      <td>8.1</td>\n",
       "      <td>1045588</td>\n",
       "      <td>623.28</td>\n",
       "      <td>69.0</td>\n",
       "    </tr>\n",
       "    <tr>\n",
       "      <th>54</th>\n",
       "      <td>55</td>\n",
       "      <td>The Dark Knight</td>\n",
       "      <td>Action,Crime,Drama</td>\n",
       "      <td>When the menace known as the Joker wreaks havo...</td>\n",
       "      <td>Christopher Nolan</td>\n",
       "      <td>Christian Bale, Heath Ledger, Aaron Eckhart,Mi...</td>\n",
       "      <td>2008</td>\n",
       "      <td>152</td>\n",
       "      <td>9.0</td>\n",
       "      <td>1791916</td>\n",
       "      <td>533.32</td>\n",
       "      <td>82.0</td>\n",
       "    </tr>\n",
       "    <tr>\n",
       "      <th>12</th>\n",
       "      <td>13</td>\n",
       "      <td>Rogue One</td>\n",
       "      <td>Action,Adventure,Sci-Fi</td>\n",
       "      <td>The Rebel Alliance makes a risky move to steal...</td>\n",
       "      <td>Gareth Edwards</td>\n",
       "      <td>Felicity Jones, Diego Luna, Alan Tudyk, Donnie...</td>\n",
       "      <td>2016</td>\n",
       "      <td>133</td>\n",
       "      <td>7.9</td>\n",
       "      <td>323118</td>\n",
       "      <td>532.17</td>\n",
       "      <td>65.0</td>\n",
       "    </tr>\n",
       "    <tr>\n",
       "      <th>119</th>\n",
       "      <td>120</td>\n",
       "      <td>Finding Dory</td>\n",
       "      <td>Animation,Adventure,Comedy</td>\n",
       "      <td>The friendly but forgetful blue tang fish, Dor...</td>\n",
       "      <td>Andrew Stanton</td>\n",
       "      <td>Ellen DeGeneres, Albert Brooks,Ed O'Neill, Kai...</td>\n",
       "      <td>2016</td>\n",
       "      <td>97</td>\n",
       "      <td>7.4</td>\n",
       "      <td>157026</td>\n",
       "      <td>486.29</td>\n",
       "      <td>77.0</td>\n",
       "    </tr>\n",
       "    <tr>\n",
       "      <th>94</th>\n",
       "      <td>95</td>\n",
       "      <td>Avengers: Age of Ultron</td>\n",
       "      <td>Action,Adventure,Sci-Fi</td>\n",
       "      <td>When Tony Stark and Bruce Banner try to jump-s...</td>\n",
       "      <td>Joss Whedon</td>\n",
       "      <td>Robert Downey Jr., Chris Evans, Mark Ruffalo, ...</td>\n",
       "      <td>2015</td>\n",
       "      <td>141</td>\n",
       "      <td>7.4</td>\n",
       "      <td>516895</td>\n",
       "      <td>458.99</td>\n",
       "      <td>66.0</td>\n",
       "    </tr>\n",
       "    <tr>\n",
       "      <th>124</th>\n",
       "      <td>125</td>\n",
       "      <td>The Dark Knight Rises</td>\n",
       "      <td>Action,Thriller</td>\n",
       "      <td>Eight years after the Joker's reign of anarchy...</td>\n",
       "      <td>Christopher Nolan</td>\n",
       "      <td>Christian Bale, Tom Hardy, Anne Hathaway,Gary ...</td>\n",
       "      <td>2012</td>\n",
       "      <td>164</td>\n",
       "      <td>8.5</td>\n",
       "      <td>1222645</td>\n",
       "      <td>448.13</td>\n",
       "      <td>78.0</td>\n",
       "    </tr>\n",
       "    <tr>\n",
       "      <th>578</th>\n",
       "      <td>579</td>\n",
       "      <td>The Hunger Games: Catching Fire</td>\n",
       "      <td>Action,Adventure,Mystery</td>\n",
       "      <td>Katniss Everdeen and Peeta Mellark become targ...</td>\n",
       "      <td>Francis Lawrence</td>\n",
       "      <td>Jennifer Lawrence, Josh Hutcherson, Liam Hemsw...</td>\n",
       "      <td>2013</td>\n",
       "      <td>146</td>\n",
       "      <td>7.6</td>\n",
       "      <td>525646</td>\n",
       "      <td>424.65</td>\n",
       "      <td>76.0</td>\n",
       "    </tr>\n",
       "  </tbody>\n",
       "</table>\n",
       "</div>"
      ],
      "text/plain": [
       "     Rank                                       Title  \\\n",
       "50     51  Star Wars: Episode VII - The Force Awakens   \n",
       "87     88                                      Avatar   \n",
       "85     86                              Jurassic World   \n",
       "76     77                                The Avengers   \n",
       "54     55                             The Dark Knight   \n",
       "12     13                                   Rogue One   \n",
       "119   120                                Finding Dory   \n",
       "94     95                     Avengers: Age of Ultron   \n",
       "124   125                       The Dark Knight Rises   \n",
       "578   579             The Hunger Games: Catching Fire   \n",
       "\n",
       "                          Genre  \\\n",
       "50     Action,Adventure,Fantasy   \n",
       "87     Action,Adventure,Fantasy   \n",
       "85      Action,Adventure,Sci-Fi   \n",
       "76                Action,Sci-Fi   \n",
       "54           Action,Crime,Drama   \n",
       "12      Action,Adventure,Sci-Fi   \n",
       "119  Animation,Adventure,Comedy   \n",
       "94      Action,Adventure,Sci-Fi   \n",
       "124             Action,Thriller   \n",
       "578    Action,Adventure,Mystery   \n",
       "\n",
       "                                           Description           Director  \\\n",
       "50   Three decades after the defeat of the Galactic...        J.J. Abrams   \n",
       "87   A paraplegic marine dispatched to the moon Pan...      James Cameron   \n",
       "85   A new theme park, built on the original site o...    Colin Trevorrow   \n",
       "76   Earth's mightiest heroes must come together an...        Joss Whedon   \n",
       "54   When the menace known as the Joker wreaks havo...  Christopher Nolan   \n",
       "12   The Rebel Alliance makes a risky move to steal...     Gareth Edwards   \n",
       "119  The friendly but forgetful blue tang fish, Dor...     Andrew Stanton   \n",
       "94   When Tony Stark and Bruce Banner try to jump-s...        Joss Whedon   \n",
       "124  Eight years after the Joker's reign of anarchy...  Christopher Nolan   \n",
       "578  Katniss Everdeen and Peeta Mellark become targ...   Francis Lawrence   \n",
       "\n",
       "                                                Actors  Year  \\\n",
       "50   Daisy Ridley, John Boyega, Oscar Isaac, Domhna...  2015   \n",
       "87   Sam Worthington, Zoe Saldana, Sigourney Weaver...  2009   \n",
       "85   Chris Pratt, Bryce Dallas Howard, Ty Simpkins,...  2015   \n",
       "76   Robert Downey Jr., Chris Evans, Scarlett Johan...  2012   \n",
       "54   Christian Bale, Heath Ledger, Aaron Eckhart,Mi...  2008   \n",
       "12   Felicity Jones, Diego Luna, Alan Tudyk, Donnie...  2016   \n",
       "119  Ellen DeGeneres, Albert Brooks,Ed O'Neill, Kai...  2016   \n",
       "94   Robert Downey Jr., Chris Evans, Mark Ruffalo, ...  2015   \n",
       "124  Christian Bale, Tom Hardy, Anne Hathaway,Gary ...  2012   \n",
       "578  Jennifer Lawrence, Josh Hutcherson, Liam Hemsw...  2013   \n",
       "\n",
       "     Runtime (Minutes)  Rating    Votes  Revenue (Millions)  Metascore  \n",
       "50                 136     8.1   661608              936.63       81.0  \n",
       "87                 162     7.8   935408              760.51       83.0  \n",
       "85                 124     7.0   455169              652.18       59.0  \n",
       "76                 143     8.1  1045588              623.28       69.0  \n",
       "54                 152     9.0  1791916              533.32       82.0  \n",
       "12                 133     7.9   323118              532.17       65.0  \n",
       "119                 97     7.4   157026              486.29       77.0  \n",
       "94                 141     7.4   516895              458.99       66.0  \n",
       "124                164     8.5  1222645              448.13       78.0  \n",
       "578                146     7.6   525646              424.65       76.0  "
      ]
     },
     "execution_count": 37,
     "metadata": {},
     "output_type": "execute_result"
    }
   ],
   "source": [
    "data.sort_values(by='Revenue (Millions)',ascending=False).head(10)"
   ]
  },
  {
   "cell_type": "code",
   "execution_count": 38,
   "id": "7bfa46b0",
   "metadata": {},
   "outputs": [],
   "source": [
    "top_10 = data.nlargest(10,'Revenue (Millions)')[['Title','Director','Revenue (Millions)']].set_index('Title')"
   ]
  },
  {
   "cell_type": "code",
   "execution_count": 39,
   "id": "6add1a36",
   "metadata": {},
   "outputs": [
    {
     "data": {
      "image/png": "[encoded data removed]",
      "text/plain": [
       "<Figure size 432x288 with 1 Axes>"
      ]
     },
     "metadata": {
      "needs_background": "light"
     },
     "output_type": "display_data"
    }
   ],
   "source": [
    "sns.barplot(top_10['Revenue (Millions)'],top_10.index)\n",
    "plt.title(\"Display Top 10 Highest Revenue Movie Titles\")\n",
    "plt.show()"
   ]
  },
  {
   "cell_type": "markdown",
   "id": "81e98312",
   "metadata": {},
   "source": [
    "# 18. Find Average Rating of Movies Year-wise"
   ]
  },
  {
   "cell_type": "code",
   "execution_count": 40,
   "id": "02946111",
   "metadata": {},
   "outputs": [
    {
     "data": {
      "text/plain": [
       "Index(['Rank', 'Title', 'Genre', 'Description', 'Director', 'Actors', 'Year',\n",
       "       'Runtime (Minutes)', 'Rating', 'Votes', 'Revenue (Millions)',\n",
       "       'Metascore'],\n",
       "      dtype='object')"
      ]
     },
     "execution_count": 40,
     "metadata": {},
     "output_type": "execute_result"
    }
   ],
   "source": [
    "data.columns"
   ]
  },
  {
   "cell_type": "code",
   "execution_count": 41,
   "id": "412ed5ea",
   "metadata": {},
   "outputs": [],
   "source": [
    "data1=data.groupby('Year')['Year','Rating'].mean().\\\n",
    "sort_values(by='Rating',ascending=False).set_index('Year')"
   ]
  },
  {
   "cell_type": "code",
   "execution_count": 42,
   "id": "c57e7f19",
   "metadata": {},
   "outputs": [
    {
     "data": {
      "text/html": [
       "<div>\n",
       "<style scoped>\n",
       "    .dataframe tbody tr th:only-of-type {\n",
       "        vertical-align: middle;\n",
       "    }\n",
       "\n",
       "    .dataframe tbody tr th {\n",
       "        vertical-align: top;\n",
       "    }\n",
       "\n",
       "    .dataframe thead th {\n",
       "        text-align: right;\n",
       "    }\n",
       "</style>\n",
       "<table border=\"1\" class=\"dataframe\">\n",
       "  <thead>\n",
       "    <tr style=\"text-align: right;\">\n",
       "      <th></th>\n",
       "      <th>Rating</th>\n",
       "    </tr>\n",
       "    <tr>\n",
       "      <th>Year</th>\n",
       "      <th></th>\n",
       "    </tr>\n",
       "  </thead>\n",
       "  <tbody>\n",
       "    <tr>\n",
       "      <th>2006.0</th>\n",
       "      <td>7.143902</td>\n",
       "    </tr>\n",
       "    <tr>\n",
       "      <th>2007.0</th>\n",
       "      <td>7.140909</td>\n",
       "    </tr>\n",
       "    <tr>\n",
       "      <th>2011.0</th>\n",
       "      <td>6.945614</td>\n",
       "    </tr>\n",
       "    <tr>\n",
       "      <th>2012.0</th>\n",
       "      <td>6.933871</td>\n",
       "    </tr>\n",
       "    <tr>\n",
       "      <th>2009.0</th>\n",
       "      <td>6.911111</td>\n",
       "    </tr>\n",
       "    <tr>\n",
       "      <th>2010.0</th>\n",
       "      <td>6.894737</td>\n",
       "    </tr>\n",
       "    <tr>\n",
       "      <th>2013.0</th>\n",
       "      <td>6.832143</td>\n",
       "    </tr>\n",
       "    <tr>\n",
       "      <th>2014.0</th>\n",
       "      <td>6.822581</td>\n",
       "    </tr>\n",
       "    <tr>\n",
       "      <th>2008.0</th>\n",
       "      <td>6.708333</td>\n",
       "    </tr>\n",
       "    <tr>\n",
       "      <th>2015.0</th>\n",
       "      <td>6.674312</td>\n",
       "    </tr>\n",
       "    <tr>\n",
       "      <th>2016.0</th>\n",
       "      <td>6.644444</td>\n",
       "    </tr>\n",
       "  </tbody>\n",
       "</table>\n",
       "</div>"
      ],
      "text/plain": [
       "          Rating\n",
       "Year            \n",
       "2006.0  7.143902\n",
       "2007.0  7.140909\n",
       "2011.0  6.945614\n",
       "2012.0  6.933871\n",
       "2009.0  6.911111\n",
       "2010.0  6.894737\n",
       "2013.0  6.832143\n",
       "2014.0  6.822581\n",
       "2008.0  6.708333\n",
       "2015.0  6.674312\n",
       "2016.0  6.644444"
      ]
     },
     "execution_count": 42,
     "metadata": {},
     "output_type": "execute_result"
    }
   ],
   "source": [
    "data1"
   ]
  },
  {
   "cell_type": "code",
   "execution_count": 43,
   "id": "8acd6a9d",
   "metadata": {},
   "outputs": [
    {
     "data": {
      "image/png": "[encoded data removed]",
      "text/plain": [
       "<Figure size 720x360 with 1 Axes>"
      ]
     },
     "metadata": {
      "needs_background": "light"
     },
     "output_type": "display_data"
    }
   ],
   "source": [
    "plt.figure(figsize=(10,5))\n",
    "sns.barplot(data1.index,data1['Rating'])\n",
    "plt.show()"
   ]
  },
  {
   "cell_type": "markdown",
   "id": "3dabfa19",
   "metadata": {},
   "source": [
    "# 19. Does Rating Affect The Revenue?"
   ]
  },
  {
   "cell_type": "code",
   "execution_count": 44,
   "id": "988de799",
   "metadata": {},
   "outputs": [
    {
     "data": {
      "text/plain": [
       "<AxesSubplot:xlabel='Rating', ylabel='Revenue (Millions)'>"
      ]
     },
     "execution_count": 44,
     "metadata": {},
     "output_type": "execute_result"
    },
    {
     "data": {
      "image/png": "[encoded data removed]",
      "text/plain": [
       "<Figure size 432x288 with 1 Axes>"
      ]
     },
     "metadata": {
      "needs_background": "light"
     },
     "output_type": "display_data"
    }
   ],
   "source": [
    "sns.scatterplot(x='Rating',y='Revenue (Millions)',data=data)"
   ]
  },
  {
   "cell_type": "markdown",
   "id": "21739a62",
   "metadata": {},
   "source": [
    "# 20. Classify Movies Based on Ratings [Good,Better and Best]"
   ]
  },
  {
   "cell_type": "code",
   "execution_count": 45,
   "id": "36c06f78",
   "metadata": {},
   "outputs": [
    {
     "data": {
      "text/plain": [
       "Index(['Rank', 'Title', 'Genre', 'Description', 'Director', 'Actors', 'Year',\n",
       "       'Runtime (Minutes)', 'Rating', 'Votes', 'Revenue (Millions)',\n",
       "       'Metascore'],\n",
       "      dtype='object')"
      ]
     },
     "execution_count": 45,
     "metadata": {},
     "output_type": "execute_result"
    }
   ],
   "source": [
    "data.columns"
   ]
  },
  {
   "cell_type": "code",
   "execution_count": 46,
   "id": "543f33de",
   "metadata": {},
   "outputs": [],
   "source": [
    "def rating(rating):\n",
    "    if rating>=7.0:\n",
    "        return 'Excellent'\n",
    "    elif rating>=6.0:\n",
    "        return 'Good'\n",
    "    else:\n",
    "        return 'Average'"
   ]
  },
  {
   "cell_type": "code",
   "execution_count": 47,
   "id": "9f0ef94d",
   "metadata": {},
   "outputs": [],
   "source": [
    "data['rating_cat']=data['Rating'].apply(rating)"
   ]
  },
  {
   "cell_type": "code",
   "execution_count": 48,
   "id": "607bd15c",
   "metadata": {},
   "outputs": [
    {
     "data": {
      "text/html": [
       "<div>\n",
       "<style scoped>\n",
       "    .dataframe tbody tr th:only-of-type {\n",
       "        vertical-align: middle;\n",
       "    }\n",
       "\n",
       "    .dataframe tbody tr th {\n",
       "        vertical-align: top;\n",
       "    }\n",
       "\n",
       "    .dataframe thead th {\n",
       "        text-align: right;\n",
       "    }\n",
       "</style>\n",
       "<table border=\"1\" class=\"dataframe\">\n",
       "  <thead>\n",
       "    <tr style=\"text-align: right;\">\n",
       "      <th></th>\n",
       "      <th>Rank</th>\n",
       "      <th>Title</th>\n",
       "      <th>Genre</th>\n",
       "      <th>Description</th>\n",
       "      <th>Director</th>\n",
       "      <th>Actors</th>\n",
       "      <th>Year</th>\n",
       "      <th>Runtime (Minutes)</th>\n",
       "      <th>Rating</th>\n",
       "      <th>Votes</th>\n",
       "      <th>Revenue (Millions)</th>\n",
       "      <th>Metascore</th>\n",
       "      <th>rating_cat</th>\n",
       "    </tr>\n",
       "  </thead>\n",
       "  <tbody>\n",
       "    <tr>\n",
       "      <th>0</th>\n",
       "      <td>1</td>\n",
       "      <td>Guardians of the Galaxy</td>\n",
       "      <td>Action,Adventure,Sci-Fi</td>\n",
       "      <td>A group of intergalactic criminals are forced ...</td>\n",
       "      <td>James Gunn</td>\n",
       "      <td>Chris Pratt, Vin Diesel, Bradley Cooper, Zoe S...</td>\n",
       "      <td>2014</td>\n",
       "      <td>121</td>\n",
       "      <td>8.1</td>\n",
       "      <td>757074</td>\n",
       "      <td>333.13</td>\n",
       "      <td>76.0</td>\n",
       "      <td>Excellent</td>\n",
       "    </tr>\n",
       "  </tbody>\n",
       "</table>\n",
       "</div>"
      ],
      "text/plain": [
       "   Rank                    Title                    Genre  \\\n",
       "0     1  Guardians of the Galaxy  Action,Adventure,Sci-Fi   \n",
       "\n",
       "                                         Description    Director  \\\n",
       "0  A group of intergalactic criminals are forced ...  James Gunn   \n",
       "\n",
       "                                              Actors  Year  Runtime (Minutes)  \\\n",
       "0  Chris Pratt, Vin Diesel, Bradley Cooper, Zoe S...  2014                121   \n",
       "\n",
       "   Rating   Votes  Revenue (Millions)  Metascore rating_cat  \n",
       "0     8.1  757074              333.13       76.0  Excellent  "
      ]
     },
     "execution_count": 48,
     "metadata": {},
     "output_type": "execute_result"
    }
   ],
   "source": [
    "data.head(1)"
   ]
  },
  {
   "cell_type": "markdown",
   "id": "f940fb4e",
   "metadata": {},
   "source": [
    "# 21. Count Number of Action Movies"
   ]
  },
  {
   "cell_type": "code",
   "execution_count": 49,
   "id": "27efca84",
   "metadata": {},
   "outputs": [],
   "source": [
    "list1=[]\n",
    "for value in data['Genre']:\n",
    "    list1.append(value.split(','))"
   ]
  },
  {
   "cell_type": "code",
   "execution_count": 50,
   "id": "60c5a1b8",
   "metadata": {},
   "outputs": [],
   "source": [
    "data['temp']=list1"
   ]
  },
  {
   "cell_type": "code",
   "execution_count": 56,
   "id": "6fc4cffc",
   "metadata": {},
   "outputs": [
    {
     "name": "stdout",
     "output_type": "stream",
     "text": [
      "Enter Genre you want to count : 25\n",
      "Total Count is 0\n"
     ]
    }
   ],
   "source": [
    "genre=input(\"Enter Genre you want to count : \").title()\n",
    "count=0\n",
    "for value in data['temp']:\n",
    "    if genre in value:\n",
    "        count=count+1\n",
    "print(\"Total Count is\",count)"
   ]
  },
  {
   "cell_type": "code",
   "execution_count": null,
   "id": "5681ed9b",
   "metadata": {},
   "outputs": [],
   "source": []
  }
 ],
 "metadata": {
  "kernelspec": {
   "display_name": "Python 3 (ipykernel)",
   "language": "python",
   "name": "python3"
  },
  "language_info": {
   "codemirror_mode": {
    "name": "ipython",
    "version": 3
   },
   "file_extension": ".py",
   "mimetype": "text/x-python",
   "name": "python",
   "nbconvert_exporter": "python",
   "pygments_lexer": "ipython3",
   "version": "3.9.12"
  }
 },
 "nbformat": 4,
 "nbformat_minor": 5
}
